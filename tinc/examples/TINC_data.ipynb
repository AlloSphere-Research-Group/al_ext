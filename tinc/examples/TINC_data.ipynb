{
 "cells": [
  {
   "cell_type": "code",
   "execution_count": null,
   "metadata": {},
   "outputs": [],
   "source": [
    "pserver.stop()"
   ]
  },
  {
   "cell_type": "code",
   "execution_count": 1,
   "metadata": {},
   "outputs": [
    {
     "name": "stdout",
     "output_type": "stream",
     "text": [
      "Parameter server started on ('127.0.0.1', 9011)\n",
      "Serving on ('127.0.0.1', 14001)\n",
      "Sending registering as listener request\n",
      "Unhandled command [/requestListenerInfo] ~ 16987\n",
      "Register listener 127.0.0.1:9010\n",
      "Unhandled command [/registerListener] ~ 127.0.0.1\n"
     ]
    }
   ],
   "source": [
    "from parameter_server import *\n",
    "pserver = ParameterServer()"
   ]
  },
  {
   "cell_type": "markdown",
   "metadata": {},
   "source": [
    "# Usage of DiskBufferWriter"
   ]
  },
  {
   "cell_type": "code",
   "execution_count": 2,
   "metadata": {},
   "outputs": [],
   "source": [
    "from disk_buffer_writer import *"
   ]
  },
  {
   "cell_type": "code",
   "execution_count": 3,
   "metadata": {},
   "outputs": [],
   "source": [
    "background = DiskBufferWriter('background','background.json', 'bin/')\n",
    "background.expose_to_network(pserver)"
   ]
  },
  {
   "cell_type": "code",
   "execution_count": 4,
   "metadata": {},
   "outputs": [],
   "source": [
    "import random, math\n",
    "\n",
    "background.data = [random.random() for i in range(3)]"
   ]
  },
  {
   "cell_type": "markdown",
   "metadata": {},
   "source": [
    "# Cache to compensate for possible time writing overlaps"
   ]
  },
  {
   "cell_type": "code",
   "execution_count": 5,
   "metadata": {},
   "outputs": [],
   "source": [
    "dataWriter = DiskBufferWriter('sine_data','output.json', 'bin/')\n",
    "dataWriter.expose_to_network(pserver)\n",
    "dataWriter.allow_cache(10)"
   ]
  },
  {
   "cell_type": "code",
   "execution_count": 6,
   "metadata": {},
   "outputs": [],
   "source": [
    "import random, math\n",
    "\n",
    "numpoints = random.randint(4,20)\n",
    "\n",
    "rnums = [random.random() for i in range(15)]\n",
    "rnums.sort()\n",
    "dataWriter.data = {'random' : [-1.0 + (n* 2.0) for n in rnums],\n",
    "                   'sines' : [math.sin(r* 2 * math.pi) for r in rnums]\n",
    "                  }"
   ]
  },
  {
   "cell_type": "code",
   "execution_count": 7,
   "metadata": {},
   "outputs": [
    {
     "data": {
      "text/plain": [
       "{'random': [-0.9770040723827793,\n",
       "  -0.8448583900966871,\n",
       "  -0.2418304971064873,\n",
       "  -0.04960813582924506,\n",
       "  0.027555768521134283,\n",
       "  0.24885962660507754,\n",
       "  0.31157736790164114,\n",
       "  0.3731815374697267,\n",
       "  0.5226733090147695,\n",
       "  0.6501898391541676,\n",
       "  0.6840986704770886,\n",
       "  0.7407903133471769,\n",
       "  0.8007248618100913,\n",
       "  0.881812595144648,\n",
       "  0.9631392160538561],\n",
       " 'sines': [0.07218101149286545,\n",
       "  0.4683229381535427,\n",
       "  0.6887278263546774,\n",
       "  0.15521842581315412,\n",
       "  -0.0864609130116064,\n",
       "  -0.7045689760236122,\n",
       "  -0.8298557824304023,\n",
       "  -0.9216782480413929,\n",
       "  -0.9974641945508632,\n",
       "  -0.8907356070388063,\n",
       "  -0.8373586271501371,\n",
       "  -0.7272667595824494,\n",
       "  -0.5859414197218819,\n",
       "  -0.36282406048928983,\n",
       "  -0.11554292496627631]}"
      ]
     },
     "execution_count": 7,
     "metadata": {},
     "output_type": "execute_result"
    }
   ],
   "source": [
    "dataWriter.data"
   ]
  },
  {
   "cell_type": "code",
   "execution_count": 8,
   "metadata": {},
   "outputs": [],
   "source": [
    "import time\n",
    "for i in range(20):\n",
    "    numpoints = random.randint(4,20)\n",
    "\n",
    "    rnums = [random.random() for i in range(15)]\n",
    "    rnums.sort()\n",
    "    dataWriter.data = {'random' : [-1.0 + (n* 2.0) for n in rnums],\n",
    "                       'sines' : [math.sin(r* 2 * math.pi) for r in rnums]\n",
    "                      }\n",
    "    time.sleep(0.1)"
   ]
  },
  {
   "cell_type": "markdown",
   "metadata": {},
   "source": [
    "Now let's send changes really fast to test disk caching. (It may fail on your system if your drive access is not fast enough, causing the app to crash)"
   ]
  },
  {
   "cell_type": "code",
   "execution_count": 9,
   "metadata": {},
   "outputs": [],
   "source": [
    "import time\n",
    "dataWriter.allow_cache(100)\n",
    "\n",
    "for i in range(200):\n",
    "    numpoints = random.randint(4,20)\n",
    "\n",
    "    rnums = [random.random() for i in range(15)]\n",
    "    rnums.sort()\n",
    "    dataWriter.data = {'random' : [-1.0 + (n* 2.0) for n in rnums],\n",
    "                       'sines' : [math.sin(r* 2 * math.pi) for r in rnums]\n",
    "                      }\n",
    "    time.sleep(0.001)"
   ]
  },
  {
   "cell_type": "markdown",
   "metadata": {},
   "source": [
    "This might leave a large cache, so cleanup:"
   ]
  },
  {
   "cell_type": "code",
   "execution_count": 10,
   "metadata": {},
   "outputs": [],
   "source": [
    "dataWriter.cleanup()"
   ]
  },
  {
   "cell_type": "markdown",
   "metadata": {},
   "source": [
    "If you need guaranteed safety, use file locking:"
   ]
  },
  {
   "cell_type": "code",
   "execution_count": 11,
   "metadata": {},
   "outputs": [],
   "source": [
    "\n",
    "# No cache but file locking\n",
    "dataWriter.allow_cache(-1)\n",
    "dataWriter.use_file_lock()\n",
    "\n",
    "import time\n",
    "for i in range(10000):\n",
    "    numpoints = random.randint(4,20)\n",
    "\n",
    "    rnums = [random.random() for i in range(15)]\n",
    "    rnums.sort()\n",
    "    dataWriter.data = {'random' : [-1.0 + (n* 2.0) for n in rnums],\n",
    "                       'sines' : [math.sin(r* 2 * math.pi) for r in rnums]\n",
    "                      }\n",
    "    time.sleep(0.00001) # Very fast updates"
   ]
  },
  {
   "cell_type": "markdown",
   "metadata": {},
   "source": [
    "If this is still not enough, you can have the data writer wait for read acknowledge from app.\n",
    "\n",
    "Currently not implemented."
   ]
  },
  {
   "cell_type": "code",
   "execution_count": null,
   "metadata": {},
   "outputs": [],
   "source": []
  },
  {
   "cell_type": "code",
   "execution_count": 12,
   "metadata": {},
   "outputs": [
    {
     "name": "stdout",
     "output_type": "stream",
     "text": [
      "Closed command server\n",
      "Closed parameter server\n"
     ]
    }
   ],
   "source": [
    "pserver.stop()"
   ]
  },
  {
   "cell_type": "code",
   "execution_count": null,
   "metadata": {},
   "outputs": [],
   "source": []
  },
  {
   "cell_type": "code",
   "execution_count": null,
   "metadata": {},
   "outputs": [],
   "source": []
  }
 ],
 "metadata": {
  "kernelspec": {
   "display_name": "Python 3",
   "language": "python",
   "name": "python3"
  },
  "language_info": {
   "codemirror_mode": {
    "name": "ipython",
    "version": 3
   },
   "file_extension": ".py",
   "mimetype": "text/x-python",
   "name": "python",
   "nbconvert_exporter": "python",
   "pygments_lexer": "ipython3",
   "version": "3.7.6"
  }
 },
 "nbformat": 4,
 "nbformat_minor": 4
}
