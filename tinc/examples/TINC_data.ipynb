{
 "cells": [
  {
   "cell_type": "code",
   "execution_count": 163,
   "metadata": {},
   "outputs": [
    {
     "name": "stdout",
     "output_type": "stream",
     "text": [
      "Parameter server started on ('127.0.0.1', 9011)\n",
      "Serving on ('127.0.0.1', 14000)\n",
      "Registering listener\n",
      "Unhandled command [/requestListenerInfo] ~ 16987\n"
     ]
    }
   ],
   "source": [
    "from parameter_server import *\n",
    "app = AppConnection()\n",
    "app.start()"
   ]
  },
  {
   "cell_type": "code",
   "execution_count": 164,
   "metadata": {},
   "outputs": [],
   "source": [
    "import json\n",
    "\n",
    "class DiskBufferWriter(object):\n",
    "    def __init__(self, filename, path):\n",
    "        self._data = None\n",
    "        self._filename = filename\n",
    "        self._path = path\n",
    "        pass\n",
    "    \n",
    "    @property\n",
    "    def data(self):\n",
    "        return self._data\n",
    "\n",
    "    @data.setter\n",
    "    def data(self, data):\n",
    "        self._data = data\n",
    "        with open(self._path + self._filename, 'w') as outfile:\n",
    "            json.dump(data, outfile)\n",
    "        \n",
    "        for l in self.pserver.listeners:\n",
    "            address = \"/__DiskBuffer/\" + self._filename\n",
    "            \n",
    "#             print('sending ' + address)\n",
    "#             print(l.__dict__)\n",
    "            l.send_message(address, float(1.0))\n",
    "            \n",
    "    def expose_to_network(self, pserver: ParameterServer):\n",
    "        self.pserver = pserver"
   ]
  },
  {
   "cell_type": "code",
   "execution_count": 165,
   "metadata": {},
   "outputs": [],
   "source": [
    "dataWriter = DiskBufferWriter('output.json', 'bin/')\n",
    "dataWriter.expose_to_network(app.pserver)\n",
    "\n",
    "dataWriter.pserver.add_listener(\"127.0.0.1\", 9010)"
   ]
  },
  {
   "cell_type": "code",
   "execution_count": 175,
   "metadata": {},
   "outputs": [],
   "source": [
    "import random, math\n",
    "\n",
    "numpoints = random.randint(4,20)\n",
    "\n",
    "rnums = [random.random() for i in range(15)]\n",
    "rnums.sort()\n",
    "dataWriter.data = {'random' : [-1.0 + (n* 2.0) for n in rnums],\n",
    "                   'sines' : [math.sin(r* 2 * math.pi) for r in rnums]\n",
    "                  }"
   ]
  },
  {
   "cell_type": "code",
   "execution_count": 167,
   "metadata": {},
   "outputs": [
    {
     "data": {
      "text/plain": [
       "{'random': [-0.9351818011604782,\n",
       "  -0.8231848972830627,\n",
       "  -0.632450397990979,\n",
       "  -0.4998216523100163,\n",
       "  -0.34701977249892324,\n",
       "  -0.3375411226378806,\n",
       "  0.1996202219930041,\n",
       "  0.2518770725897832,\n",
       "  0.28392323374148853,\n",
       "  0.5306162115646968,\n",
       "  0.6341763268334797,\n",
       "  0.7044891363341657,\n",
       "  0.7118876275411259,\n",
       "  0.7261081303197694,\n",
       "  0.8782303473690625],\n",
       " 'sines': [0.2022279839132261,\n",
       "  0.5273520649108158,\n",
       "  0.9146701572760988,\n",
       "  0.9999998430343164,\n",
       "  0.8867169749509799,\n",
       "  0.8725591250517065,\n",
       "  -0.5868195896798374,\n",
       "  -0.7112642692761006,\n",
       "  -0.7783108996627895,\n",
       "  -0.995377916266466,\n",
       "  -0.9124650774184009,\n",
       "  -0.8006472579194592,\n",
       "  -0.7865065051818956,\n",
       "  -0.7581404426956886,\n",
       "  -0.37328795514280544]}"
      ]
     },
     "execution_count": 167,
     "metadata": {},
     "output_type": "execute_result"
    }
   ],
   "source": [
    "dataWriter.data"
   ]
  },
  {
   "cell_type": "code",
   "execution_count": 173,
   "metadata": {},
   "outputs": [],
   "source": [
    "import time\n",
    "for i in range(20):\n",
    "    numpoints = random.randint(4,20)\n",
    "\n",
    "    rnums = [random.random() for i in range(15)]\n",
    "    rnums.sort()\n",
    "    dataWriter.data = {'random' : [-1.0 + (n* 2.0) for n in rnums],\n",
    "                       'sines' : [math.sin(r* 2 * math.pi) for r in rnums]\n",
    "                      }\n",
    "    time.sleep(0.1)"
   ]
  },
  {
   "cell_type": "code",
   "execution_count": 178,
   "metadata": {},
   "outputs": [],
   "source": [
    "dataWriter2 = DiskBufferWriter('background.json', 'bin/')\n",
    "dataWriter2.expose_to_network(app.pserver)\n",
    "\n",
    "dataWriter2.pserver.add_listener(\"127.0.0.1\", 9010)"
   ]
  },
  {
   "cell_type": "code",
   "execution_count": 260,
   "metadata": {},
   "outputs": [],
   "source": [
    "import random, math\n",
    "\n",
    "dataWriter2.data = [random.random() for i in range(3)]"
   ]
  },
  {
   "cell_type": "code",
   "execution_count": 162,
   "metadata": {},
   "outputs": [
    {
     "name": "stdout",
     "output_type": "stream",
     "text": [
      "Closed parameter server\n",
      "Closed command server\n"
     ]
    }
   ],
   "source": [
    "app.stop()"
   ]
  },
  {
   "cell_type": "code",
   "execution_count": null,
   "metadata": {},
   "outputs": [],
   "source": []
  },
  {
   "cell_type": "code",
   "execution_count": null,
   "metadata": {},
   "outputs": [],
   "source": []
  }
 ],
 "metadata": {
  "kernelspec": {
   "display_name": "Python 3",
   "language": "python",
   "name": "python3"
  },
  "language_info": {
   "codemirror_mode": {
    "name": "ipython",
    "version": 3
   },
   "file_extension": ".py",
   "mimetype": "text/x-python",
   "name": "python",
   "nbconvert_exporter": "python",
   "pygments_lexer": "ipython3",
   "version": "3.7.6"
  }
 },
 "nbformat": 4,
 "nbformat_minor": 4
}
