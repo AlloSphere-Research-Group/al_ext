{
 "cells": [
  {
   "cell_type": "code",
   "execution_count": 173,
   "metadata": {},
   "outputs": [
    {
     "name": "stdout",
     "output_type": "stream",
     "text": [
      "Closed command server\n",
      "Closed parameter server\n"
     ]
    }
   ],
   "source": [
    "pserver.stop()"
   ]
  },
  {
   "cell_type": "code",
   "execution_count": 174,
   "metadata": {},
   "outputs": [
    {
     "name": "stdout",
     "output_type": "stream",
     "text": [
      "Parameter server started on ('127.0.0.1', 9011)\n",
      "Starting on port 14000\n",
      "Serving on ('127.0.0.1', 14000)\n",
      "Registering listener\n",
      "Unhandled command [/requestListenerInfo] ~ 16987\n"
     ]
    }
   ],
   "source": [
    "from parameter_server import *\n",
    "pserver = ParameterServer()\n",
    "\n",
    "pserver.add_listener(\"127.0.0.1\", 9010)"
   ]
  },
  {
   "cell_type": "code",
   "execution_count": 175,
   "metadata": {},
   "outputs": [],
   "source": [
    "import json\n",
    "\n",
    "class DiskBufferWriter(object):\n",
    "    def __init__(self, name, filename, path):\n",
    "        self._data = None\n",
    "        self.name:str = name\n",
    "        self._filename:str = filename\n",
    "        self._path:str = path\n",
    "        \n",
    "        self._cache_size:int  = -1\n",
    "        self._cache_counter: int = 0\n",
    "        \n",
    "        self._file_lock:bool = False\n",
    "        pass\n",
    "    \n",
    "    def allow_cache(self, cache_size: int = 0):\n",
    "        # 0 is unlimited cache\n",
    "        self._cache_size = cache_size\n",
    "    \n",
    "    def use_file_lock(self, use:bool = True):\n",
    "        print(\"File lock not implemented yet\")\n",
    "        self._file_lock = use\n",
    "    \n",
    "    @property\n",
    "    def data(self):\n",
    "        return self._data\n",
    "\n",
    "    @data.setter\n",
    "    def data(self, data):\n",
    "        self._data = data\n",
    "        \n",
    "        # TODO implement file lock\n",
    "        \n",
    "        outname = self._filename\n",
    "        if self._cache_size >=0:\n",
    "            try:\n",
    "                index_dot = outname.index('.')\n",
    "                prefix = outname[0: index_dot]\n",
    "                suffix = outname[index_dot:]\n",
    "            except:\n",
    "                prefix = outname\n",
    "                suffix = ''\n",
    "            if self._cache_size > 0 and self._cache_counter == self._cache_size:\n",
    "                self._cache_counter = 0\n",
    "            outname = prefix + '_' + str(self._cache_counter) + suffix\n",
    "            self._cache_counter += 1\n",
    "        \n",
    "        with open(self._path + outname, 'w') as outfile:\n",
    "            json.dump(data, outfile)\n",
    "        \n",
    "        for l in self.pserver.listeners:\n",
    "            address = \"/__DiskBuffer/\" + self.name\n",
    "            \n",
    "            print('sending ' + address)\n",
    "            print(l.__dict__)\n",
    "            l.send_message(address, outname)\n",
    "            \n",
    "    def expose_to_network(self, pserver: ParameterServer):\n",
    "        self.pserver = pserver"
   ]
  },
  {
   "cell_type": "code",
   "execution_count": 176,
   "metadata": {},
   "outputs": [],
   "source": [
    "dataWriter = DiskBufferWriter('sine_data','output.json', 'bin/')\n",
    "dataWriter.expose_to_network(pserver)\n"
   ]
  },
  {
   "cell_type": "code",
   "execution_count": 177,
   "metadata": {},
   "outputs": [
    {
     "name": "stdout",
     "output_type": "stream",
     "text": [
      "sending /__DiskBuffer/sine_data\n",
      "{'_sock': <socket.socket fd=70, family=AddressFamily.AF_INET, type=SocketKind.SOCK_DGRAM, proto=0, laddr=('0.0.0.0', 0)>, '_address': '127.0.0.1', '_port': 9010}\n"
     ]
    }
   ],
   "source": [
    "import random, math\n",
    "\n",
    "numpoints = random.randint(4,20)\n",
    "\n",
    "rnums = [random.random() for i in range(15)]\n",
    "rnums.sort()\n",
    "dataWriter.data = {'random' : [-1.0 + (n* 2.0) for n in rnums],\n",
    "                   'sines' : [math.sin(r* 2 * math.pi) for r in rnums]\n",
    "                  }"
   ]
  },
  {
   "cell_type": "code",
   "execution_count": 130,
   "metadata": {},
   "outputs": [
    {
     "data": {
      "text/plain": [
       "{'random': [-0.8366654232642539,\n",
       "  -0.8331180749841103,\n",
       "  -0.7790644087513241,\n",
       "  -0.7686759558364216,\n",
       "  -0.7045546373219553,\n",
       "  -0.4930698661895523,\n",
       "  -0.05864524091612289,\n",
       "  0.38753981787558134,\n",
       "  0.4546406438625832,\n",
       "  0.5457110947082044,\n",
       "  0.5751272361207138,\n",
       "  0.6158246132401255,\n",
       "  0.6566437794149007,\n",
       "  0.8976172962215518,\n",
       "  0.9437203944664998],\n",
       " 'sines': [0.49090715680244246,\n",
       "  0.5005855388109317,\n",
       "  0.6396859615066561,\n",
       "  0.6644263027839237,\n",
       "  0.8005239523035943,\n",
       "  0.9997630068271156,\n",
       "  0.1831989161282138,\n",
       "  -0.9382346248995734,\n",
       "  -0.9898639563127314,\n",
       "  -0.9897064184500788,\n",
       "  -0.9722765289887373,\n",
       "  -0.9345251813381559,\n",
       "  -0.8813374273313281,\n",
       "  -0.3161273894257766,\n",
       "  -0.17588783923844695]}"
      ]
     },
     "execution_count": 130,
     "metadata": {},
     "output_type": "execute_result"
    }
   ],
   "source": [
    "dataWriter.data"
   ]
  },
  {
   "cell_type": "code",
   "execution_count": 131,
   "metadata": {},
   "outputs": [
    {
     "name": "stdout",
     "output_type": "stream",
     "text": [
      "sending /__DiskBuffer/sine_data\n",
      "{'_sock': <socket.socket fd=66, family=AddressFamily.AF_INET, type=SocketKind.SOCK_DGRAM, proto=0, laddr=('0.0.0.0', 63148)>, '_address': '127.0.0.1', '_port': 9010}\n",
      "sending /__DiskBuffer/sine_data\n",
      "{'_sock': <socket.socket fd=66, family=AddressFamily.AF_INET, type=SocketKind.SOCK_DGRAM, proto=0, laddr=('0.0.0.0', 63148)>, '_address': '127.0.0.1', '_port': 9010}\n",
      "sending /__DiskBuffer/sine_data\n",
      "{'_sock': <socket.socket fd=66, family=AddressFamily.AF_INET, type=SocketKind.SOCK_DGRAM, proto=0, laddr=('0.0.0.0', 63148)>, '_address': '127.0.0.1', '_port': 9010}\n",
      "sending /__DiskBuffer/sine_data\n",
      "{'_sock': <socket.socket fd=66, family=AddressFamily.AF_INET, type=SocketKind.SOCK_DGRAM, proto=0, laddr=('0.0.0.0', 63148)>, '_address': '127.0.0.1', '_port': 9010}\n",
      "sending /__DiskBuffer/sine_data\n",
      "{'_sock': <socket.socket fd=66, family=AddressFamily.AF_INET, type=SocketKind.SOCK_DGRAM, proto=0, laddr=('0.0.0.0', 63148)>, '_address': '127.0.0.1', '_port': 9010}\n",
      "sending /__DiskBuffer/sine_data\n",
      "{'_sock': <socket.socket fd=66, family=AddressFamily.AF_INET, type=SocketKind.SOCK_DGRAM, proto=0, laddr=('0.0.0.0', 63148)>, '_address': '127.0.0.1', '_port': 9010}\n",
      "sending /__DiskBuffer/sine_data\n",
      "{'_sock': <socket.socket fd=66, family=AddressFamily.AF_INET, type=SocketKind.SOCK_DGRAM, proto=0, laddr=('0.0.0.0', 63148)>, '_address': '127.0.0.1', '_port': 9010}\n",
      "sending /__DiskBuffer/sine_data\n",
      "{'_sock': <socket.socket fd=66, family=AddressFamily.AF_INET, type=SocketKind.SOCK_DGRAM, proto=0, laddr=('0.0.0.0', 63148)>, '_address': '127.0.0.1', '_port': 9010}\n",
      "sending /__DiskBuffer/sine_data\n",
      "{'_sock': <socket.socket fd=66, family=AddressFamily.AF_INET, type=SocketKind.SOCK_DGRAM, proto=0, laddr=('0.0.0.0', 63148)>, '_address': '127.0.0.1', '_port': 9010}\n",
      "sending /__DiskBuffer/sine_data\n",
      "{'_sock': <socket.socket fd=66, family=AddressFamily.AF_INET, type=SocketKind.SOCK_DGRAM, proto=0, laddr=('0.0.0.0', 63148)>, '_address': '127.0.0.1', '_port': 9010}\n",
      "sending /__DiskBuffer/sine_data\n",
      "{'_sock': <socket.socket fd=66, family=AddressFamily.AF_INET, type=SocketKind.SOCK_DGRAM, proto=0, laddr=('0.0.0.0', 63148)>, '_address': '127.0.0.1', '_port': 9010}\n",
      "sending /__DiskBuffer/sine_data\n",
      "{'_sock': <socket.socket fd=66, family=AddressFamily.AF_INET, type=SocketKind.SOCK_DGRAM, proto=0, laddr=('0.0.0.0', 63148)>, '_address': '127.0.0.1', '_port': 9010}\n",
      "sending /__DiskBuffer/sine_data\n",
      "{'_sock': <socket.socket fd=66, family=AddressFamily.AF_INET, type=SocketKind.SOCK_DGRAM, proto=0, laddr=('0.0.0.0', 63148)>, '_address': '127.0.0.1', '_port': 9010}\n",
      "sending /__DiskBuffer/sine_data\n",
      "{'_sock': <socket.socket fd=66, family=AddressFamily.AF_INET, type=SocketKind.SOCK_DGRAM, proto=0, laddr=('0.0.0.0', 63148)>, '_address': '127.0.0.1', '_port': 9010}\n",
      "sending /__DiskBuffer/sine_data\n",
      "{'_sock': <socket.socket fd=66, family=AddressFamily.AF_INET, type=SocketKind.SOCK_DGRAM, proto=0, laddr=('0.0.0.0', 63148)>, '_address': '127.0.0.1', '_port': 9010}\n",
      "sending /__DiskBuffer/sine_data\n",
      "{'_sock': <socket.socket fd=66, family=AddressFamily.AF_INET, type=SocketKind.SOCK_DGRAM, proto=0, laddr=('0.0.0.0', 63148)>, '_address': '127.0.0.1', '_port': 9010}\n",
      "sending /__DiskBuffer/sine_data\n",
      "{'_sock': <socket.socket fd=66, family=AddressFamily.AF_INET, type=SocketKind.SOCK_DGRAM, proto=0, laddr=('0.0.0.0', 63148)>, '_address': '127.0.0.1', '_port': 9010}\n",
      "sending /__DiskBuffer/sine_data\n",
      "{'_sock': <socket.socket fd=66, family=AddressFamily.AF_INET, type=SocketKind.SOCK_DGRAM, proto=0, laddr=('0.0.0.0', 63148)>, '_address': '127.0.0.1', '_port': 9010}\n",
      "sending /__DiskBuffer/sine_data\n",
      "{'_sock': <socket.socket fd=66, family=AddressFamily.AF_INET, type=SocketKind.SOCK_DGRAM, proto=0, laddr=('0.0.0.0', 63148)>, '_address': '127.0.0.1', '_port': 9010}\n",
      "sending /__DiskBuffer/sine_data\n",
      "{'_sock': <socket.socket fd=66, family=AddressFamily.AF_INET, type=SocketKind.SOCK_DGRAM, proto=0, laddr=('0.0.0.0', 63148)>, '_address': '127.0.0.1', '_port': 9010}\n"
     ]
    }
   ],
   "source": [
    "import time\n",
    "for i in range(20):\n",
    "    numpoints = random.randint(4,20)\n",
    "\n",
    "    rnums = [random.random() for i in range(15)]\n",
    "    rnums.sort()\n",
    "    dataWriter.data = {'random' : [-1.0 + (n* 2.0) for n in rnums],\n",
    "                       'sines' : [math.sin(r* 2 * math.pi) for r in rnums]\n",
    "                      }\n",
    "    time.sleep(0.1)"
   ]
  },
  {
   "cell_type": "code",
   "execution_count": 178,
   "metadata": {},
   "outputs": [],
   "source": [
    "dataWriter2 = DiskBufferWriter('background','background.json', 'bin/')\n",
    "dataWriter2.expose_to_network(pserver)\n",
    "dataWriter2.allow_cache(10)"
   ]
  },
  {
   "cell_type": "code",
   "execution_count": 271,
   "metadata": {},
   "outputs": [
    {
     "name": "stdout",
     "output_type": "stream",
     "text": [
      "sending /__DiskBuffer/background\n",
      "{'_sock': <socket.socket fd=70, family=AddressFamily.AF_INET, type=SocketKind.SOCK_DGRAM, proto=0, laddr=('0.0.0.0', 56154)>, '_address': '127.0.0.1', '_port': 9010}\n"
     ]
    }
   ],
   "source": [
    "import random, math\n",
    "\n",
    "dataWriter2.data = [random.random() for i in range(3)]"
   ]
  },
  {
   "cell_type": "code",
   "execution_count": 120,
   "metadata": {},
   "outputs": [
    {
     "name": "stdout",
     "output_type": "stream",
     "text": [
      "Closed command server\n",
      "Closed parameter server\n"
     ]
    }
   ],
   "source": [
    "pserver.stop()"
   ]
  },
  {
   "cell_type": "code",
   "execution_count": null,
   "metadata": {},
   "outputs": [],
   "source": []
  },
  {
   "cell_type": "code",
   "execution_count": null,
   "metadata": {},
   "outputs": [],
   "source": []
  }
 ],
 "metadata": {
  "kernelspec": {
   "display_name": "Python 3",
   "language": "python",
   "name": "python3"
  },
  "language_info": {
   "codemirror_mode": {
    "name": "ipython",
    "version": 3
   },
   "file_extension": ".py",
   "mimetype": "text/x-python",
   "name": "python",
   "nbconvert_exporter": "python",
   "pygments_lexer": "ipython3",
   "version": "3.7.6"
  }
 },
 "nbformat": 4,
 "nbformat_minor": 4
}
