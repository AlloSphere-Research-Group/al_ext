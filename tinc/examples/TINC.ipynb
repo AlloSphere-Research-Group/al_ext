{
 "cells": [
  {
   "cell_type": "code",
   "execution_count": 16,
   "metadata": {},
   "outputs": [],
   "source": [
    "from parameter_server import *"
   ]
  },
  {
   "cell_type": "code",
   "execution_count": 7,
   "metadata": {},
   "outputs": [
    {
     "name": "stdout",
     "output_type": "stream",
     "text": [
      "Parameter server started on ('127.0.0.1', 9011)\n",
      "Serving on ('127.0.0.1', 14000)\n",
      "Registering listener\n",
      "Unhandled command [/requestListenerInfo] ~ 16987\n"
     ]
    }
   ],
   "source": [
    "app = AppConnection()\n",
    "app.start()"
   ]
  },
  {
   "cell_type": "code",
   "execution_count": 8,
   "metadata": {},
   "outputs": [],
   "source": [
    "pserver = app.pserver"
   ]
  },
  {
   "cell_type": "code",
   "execution_count": 9,
   "metadata": {},
   "outputs": [
    {
     "name": "stdout",
     "output_type": "stream",
     "text": [
      "Sending /value\n",
      "Sending /value\n",
      "got parameter message /value(0.10000000149011612,)\n",
      "got parameter message /value(0.10000000149011612,)\n"
     ]
    }
   ],
   "source": [
    "p = Parameter(\"value\", \"\", 0.0, \"\", 0.0, 1.0)\n",
    "\n",
    "pserver.register_parameter(p)\n",
    "pserver.add_listener(\"127.0.0.1\", 9010)\n",
    "\n",
    "p.value = 0.1"
   ]
  },
  {
   "cell_type": "code",
   "execution_count": 10,
   "metadata": {},
   "outputs": [
    {
     "name": "stdout",
     "output_type": "stream",
     "text": [
      "Sending /value\n",
      "got parameter message /value(0.25,)\n"
     ]
    }
   ],
   "source": [
    "p.value = 0.25"
   ]
  },
  {
   "cell_type": "code",
   "execution_count": 11,
   "metadata": {},
   "outputs": [
    {
     "data": {
      "text/plain": [
       "0.25"
      ]
     },
     "execution_count": 11,
     "metadata": {},
     "output_type": "execute_result"
    },
    {
     "name": "stdout",
     "output_type": "stream",
     "text": [
      "Sending /value\n",
      "got parameter message /value(0.7910000085830688,)\n",
      "got parameter message /value(0.7910000085830688,)\n"
     ]
    }
   ],
   "source": [
    "p.value"
   ]
  },
  {
   "cell_type": "code",
   "execution_count": 12,
   "metadata": {},
   "outputs": [
    {
     "name": "stdout",
     "output_type": "stream",
     "text": [
      "Sending /value\n",
      "got parameter message /value(0.0,)\n",
      "Sending /value\n",
      "Sending /value\n",
      "got parameter message /value(0.20000000298023224,)\n",
      "got parameter message /value(0.20000000298023224,)\n",
      "Sending /value\n",
      "Sending /value\n",
      "got parameter message /value(0.4000000059604645,)\n",
      "got parameter message /value(0.4000000059604645,)\n",
      "Sending /value\n",
      "Sending /value\n",
      "got parameter message /value(0.6000000238418579,)\n",
      "got parameter message /value(0.6000000238418579,)\n",
      "Sending /value\n",
      "Sending /value\n",
      "got parameter message /value(0.800000011920929,)\n",
      "got parameter message /value(0.800000011920929,)\n"
     ]
    }
   ],
   "source": [
    "for i in range(5):\n",
    "    time.sleep(0.25)\n",
    "    p.value = i/5.0"
   ]
  },
  {
   "cell_type": "code",
   "execution_count": null,
   "metadata": {},
   "outputs": [],
   "source": [
    "pserver.monitor_server()"
   ]
  },
  {
   "cell_type": "code",
   "execution_count": 19,
   "metadata": {},
   "outputs": [],
   "source": [
    "app.stop()"
   ]
  },
  {
   "cell_type": "code",
   "execution_count": 17,
   "metadata": {},
   "outputs": [],
   "source": [
    "osc_send = udp_client.SimpleUDPClient(\"127.0.0.1\", 9010)"
   ]
  },
  {
   "cell_type": "code",
   "execution_count": 18,
   "metadata": {},
   "outputs": [],
   "source": [
    "osc_send.send_message(\"/value\", 0.5)"
   ]
  },
  {
   "cell_type": "code",
   "execution_count": null,
   "metadata": {},
   "outputs": [],
   "source": []
  }
 ],
 "metadata": {
  "kernelspec": {
   "display_name": "Python 3",
   "language": "python",
   "name": "python3"
  },
  "language_info": {
   "codemirror_mode": {
    "name": "ipython",
    "version": 3
   },
   "file_extension": ".py",
   "mimetype": "text/x-python",
   "name": "python",
   "nbconvert_exporter": "python",
   "pygments_lexer": "ipython3",
   "version": "3.7.6"
  }
 },
 "nbformat": 4,
 "nbformat_minor": 4
}
